{
 "cells": [
  {
   "cell_type": "code",
   "execution_count": 1,
   "metadata": {},
   "outputs": [],
   "source": [
    "from dataclasses import dataclass\n",
    "from itertools import combinations\n",
    "from typing import Callable, Any, List, Tuple\n",
    "\n",
    "import pandas as pd\n",
    "from pandas import DataFrame, Series, NamedAgg"
   ]
  },
  {
   "cell_type": "code",
   "execution_count": 2,
   "metadata": {},
   "outputs": [
    {
     "name": "stdout",
     "output_type": "stream",
     "text": [
      "Imported 12,736 rows x 16 columns\n"
     ]
    }
   ],
   "source": [
    "df = pd.read_excel(\"test_data.xlsx\")\n",
    "print(f\"Imported {df.shape[0]:,} rows x {df.shape[1]:,} columns\")"
   ]
  },
  {
   "cell_type": "code",
   "execution_count": 13,
   "metadata": {},
   "outputs": [],
   "source": [
    "@dataclass\n",
    "class NamedTotal:\n",
    "    __slots__ = ['column', 'alias', 'selector']\n",
    "    \n",
    "    column: str\n",
    "    alias: str\n",
    "    selector: Callable[[Any], bool]\n",
    "\n",
    "Subset = Tuple[NamedTotal]\n",
    "\n",
    "def _generate_valid_subsets(totals: List[NamedTotal], required: List[str] = None) -> Subset:\n",
    "    \"\"\" Yield a tuple of all NamedTotals that comprise a valid combination.\n",
    "\n",
    "    Args\n",
    "    ----\n",
    "    totals: list of NamedTotal instances that define the subsets.\n",
    "    required: list of column names that will only output aggregations that include total/subtotal selections.\n",
    "\n",
    "    Yields\n",
    "    -------\n",
    "    Tuple of NamedTotal instances for a single aggregation.\n",
    "    \"\"\"\n",
    "    def validator(subset) -> bool:\n",
    "        \"\"\" Return if the given subset contains no duplicated cols and all required cols \"\"\"\n",
    "        columns_in_subset = [c for c, _, _ in subset]\n",
    "        is_distinct = len(columns_in_subset) == len(set(columns_in_subset))\n",
    "        has_required = True if required is None else set(required).issubset(columns_in_subset)\n",
    "        return is_distinct & has_required\n",
    "\n",
    "    subsets = []\n",
    "    for combin in [combinations(totals, r) for r in range(1, len(totals) + 1)]:\n",
    "        for subset in combin:\n",
    "            subsets.append(subset)    \n",
    "    for valid in filter(validator, subsets):\n",
    "        yield valid\n",
    "\n",
    "\n",
    "def _create_subset_frame(df: pd.DataFrame, subset: Subset) -> pd.DataFrame:\n",
    "    \"\"\" Apply the subset definition to filter and transform the DataFrame\n",
    "    \n",
    "    Args\n",
    "    ----\n",
    "    df: DataFrame to be filtered and transformed\n",
    "    subset: Definition of the column filters and alias values\n",
    "\n",
    "    Returns\n",
    "    -------\n",
    "    Selected rows from df as defined by the selector functions in subset\n",
    "    \n",
    "    \"\"\"\n",
    "    for col, alias, selector in subset:\n",
    "        df=df.loc[df[col].map(selector)].assign(**{col: alias})\n",
    "    return df"
   ]
  },
  {
   "cell_type": "code",
   "execution_count": null,
   "metadata": {},
   "outputs": [],
   "source": [
    "def aggregator(grp: DataFrame, measures: dict) -> Series:\n",
    "    d = {}\n",
    "    for alias, func in measures.items():\n",
    "        d[alias] = func(grp)\n",
    "    return Series(d, index=d.keys())"
   ]
  },
  {
   "cell_type": "code",
   "execution_count": null,
   "metadata": {},
   "outputs": [],
   "source": [
    "def dataframe_combination_agg(df: DataFrame, groupby: List[str], totals: List[NamedTotal], aggregator: Callable[[DataFrame], Series], totals_only: List[str], csv_output_path: str = None) -> DataFrame:\n",
    "    \"\"\"\n",
    "\n",
    "    Args\n",
    "    ----\n",
    "    df: DataFrame to be aggregated\n",
    "    groupby: Column names to groupby\n",
    "    totals: List of NamedTotals which defines the total/subtotals in the combination aggs\n",
    "    aggregator: Callable that transforms a single grouped dataframe into a series of measures.\n",
    "    totals_only: List of column names that will only include their alias values defined in totals in the combination\n",
    "    output.\n",
    "    csv_output_path: Optional path to a csv file to output each aggregation instead of storing in memory. Useful when\n",
    "    there are many combinations being created on a large dataframe.\n",
    "\n",
    "    Returns\n",
    "    -------\n",
    "    Original dataframe when output to csv, otherwise the result of applying all aggregations.\n",
    "    \"\"\"\n",
    "    for subset in _generate_valid_subsets(totals, totals_only):\n",
    "        agg = _create_subset_frame(df, subset).apply(aggregator)      \n",
    "        \n",
    "\n",
    "        # TODO | split this into append to list for pd.concat return\n",
    "        # or csv.append\n",
    "        if csv_output_path is None:\n",
    "            aggregations = []\n",
    "        \n",
    "        else:\n",
    "            with open(csv_output_path, 'a') as csv:\n",
    "                pass\n"
   ]
  },
  {
   "cell_type": "code",
   "execution_count": 18,
   "metadata": {},
   "outputs": [],
   "source": [
    "totals = [\n",
    "    ('Type', 'Grain Carriers', lambda v: v in ['Bulk Carrier', 'General Cargo']),\n",
    "    ('Actual Draft', 'FSD Capable', lambda v: v <= 10),\n",
    "    ('Actual Draft', 'FSD Incapable', lambda v: v > 10),\n",
    "]\n",
    "valid_subsets = list(_generate_valid_subsets(totals))"
   ]
  },
  {
   "cell_type": "code",
   "execution_count": 21,
   "metadata": {},
   "outputs": [],
   "source": [
    "test_frame = _create_subset_frame(df, valid_subsets[0])"
   ]
  },
  {
   "cell_type": "code",
   "execution_count": 22,
   "metadata": {},
   "outputs": [
    {
     "data": {
      "text/plain": [
       "Actual Draft  Type          \n",
       "7.00          Grain Carriers    121\n",
       "7.50          Grain Carriers     86\n",
       "7.20          Grain Carriers     83\n",
       "7.30          Grain Carriers     75\n",
       "6.60          Grain Carriers     73\n",
       "                               ... \n",
       "14.54         Grain Carriers      1\n",
       "14.57         Grain Carriers      1\n",
       "14.72         Grain Carriers      1\n",
       "14.75         Grain Carriers      1\n",
       "18.70         Grain Carriers      1\n",
       "Length: 1035, dtype: int64"
      ]
     },
     "execution_count": 22,
     "metadata": {},
     "output_type": "execute_result"
    }
   ],
   "source": [
    "test_frame[['Actual Draft', 'Type']].value_counts()"
   ]
  },
  {
   "cell_type": "code",
   "execution_count": null,
   "metadata": {},
   "outputs": [],
   "source": [
    "for subset in valid_subsets:\n",
    "    print(subset[['Actual Draft', 'Type']].value_counts())"
   ]
  },
  {
   "cell_type": "code",
   "execution_count": null,
   "metadata": {},
   "outputs": [],
   "source": [
    "for s in valid_subsets:\n",
    "    print(s)"
   ]
  },
  {
   "cell_type": "code",
   "execution_count": null,
   "metadata": {},
   "outputs": [],
   "source": []
  }
 ],
 "metadata": {
  "interpreter": {
   "hash": "6128b48325320a99570245401f91fe5f6ab71144560c487a890bc2480fa02140"
  },
  "kernelspec": {
   "display_name": "Python 3.10.0 64-bit",
   "name": "python3"
  },
  "language_info": {
   "codemirror_mode": {
    "name": "ipython",
    "version": 3
   },
   "file_extension": ".py",
   "mimetype": "text/x-python",
   "name": "python",
   "nbconvert_exporter": "python",
   "pygments_lexer": "ipython3",
   "version": "3.10.0"
  },
  "orig_nbformat": 4
 },
 "nbformat": 4,
 "nbformat_minor": 2
}
